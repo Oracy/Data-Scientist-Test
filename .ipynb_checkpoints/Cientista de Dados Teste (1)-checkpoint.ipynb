{
 "cells": [
  {
   "cell_type": "code",
   "execution_count": 1,
   "metadata": {},
   "outputs": [],
   "source": [
    "# %%pycodestyle\n",
    "import pandas as pd\n",
    "import numpy as np\n",
    "import re\n",
    "# %load_ext pycodestyle_magic\n",
    "# Load package to confirm the code is PEP-8 formmat\n",
    "# pip install pycodestyle\n",
    "# pip install pycodestyle_magic\n",
    "# Load libraries\n",
    "# Checking\n",
    "# pd\n",
    "# np"
   ]
  },
  {
   "cell_type": "code",
   "execution_count": 2,
   "metadata": {},
   "outputs": [],
   "source": [
    "# %%pycodestyle\n",
    "# Set display to see data.\n",
    "pd.set_option('display.width', 4000)\n",
    "pd.set_option('max_colwidth', 4000)\n",
    "pd.set_option('max_rows', 100)\n",
    "pd.set_option('max_columns', 200)"
   ]
  },
  {
   "cell_type": "code",
   "execution_count": 3,
   "metadata": {},
   "outputs": [],
   "source": [
    "#%%pycodestyle\n",
    "# Load dataframe\n",
    "df = pd.read_csv(\"./DOT_teste_data_science.csv\", encoding='ISO-8859-1')"
   ]
  },
  {
   "cell_type": "code",
   "execution_count": 4,
   "metadata": {
    "scrolled": true
   },
   "outputs": [
    {
     "data": {
      "text/html": [
       "<div>\n",
       "<style scoped>\n",
       "    .dataframe tbody tr th:only-of-type {\n",
       "        vertical-align: middle;\n",
       "    }\n",
       "\n",
       "    .dataframe tbody tr th {\n",
       "        vertical-align: top;\n",
       "    }\n",
       "\n",
       "    .dataframe thead th {\n",
       "        text-align: right;\n",
       "    }\n",
       "</style>\n",
       "<table border=\"1\" class=\"dataframe\">\n",
       "  <thead>\n",
       "    <tr style=\"text-align: right;\">\n",
       "      <th></th>\n",
       "      <th>Id</th>\n",
       "      <th>PlaceTest</th>\n",
       "      <th>DateTest</th>\n",
       "      <th>Rate</th>\n",
       "      <th>TextRate</th>\n",
       "      <th>HourTest</th>\n",
       "      <th>Sex</th>\n",
       "      <th>MaritalStatus</th>\n",
       "      <th>Education</th>\n",
       "      <th>Hometown</th>\n",
       "      <th>Neighborhood</th>\n",
       "    </tr>\n",
       "  </thead>\n",
       "  <tbody>\n",
       "    <tr>\n",
       "      <th>0</th>\n",
       "      <td>0</td>\n",
       "      <td>GO - Goiás</td>\n",
       "      <td>13/01/2017</td>\n",
       "      <td>7,45</td>\n",
       "      <td>2,2</td>\n",
       "      <td>manhã</td>\n",
       "      <td>Masculino</td>\n",
       "      <td>Casado(a)</td>\n",
       "      <td>Ensino médio</td>\n",
       "      <td>fortaleza</td>\n",
       "      <td>Asa Sul</td>\n",
       "    </tr>\n",
       "    <tr>\n",
       "      <th>1</th>\n",
       "      <td>1</td>\n",
       "      <td>GO - Goiás</td>\n",
       "      <td>10/01/2017</td>\n",
       "      <td>7,4</td>\n",
       "      <td>2,4</td>\n",
       "      <td>manhã</td>\n",
       "      <td>Masculino</td>\n",
       "      <td>Casado(a)</td>\n",
       "      <td>Especialização</td>\n",
       "      <td>Recife</td>\n",
       "      <td>Norte (Águas Claras)</td>\n",
       "    </tr>\n",
       "    <tr>\n",
       "      <th>2</th>\n",
       "      <td>2</td>\n",
       "      <td>GO - Goiás</td>\n",
       "      <td>07/01/2017</td>\n",
       "      <td>7,3</td>\n",
       "      <td>1,8</td>\n",
       "      <td>manhã</td>\n",
       "      <td>Masculino</td>\n",
       "      <td>Casado(a)</td>\n",
       "      <td>Superior</td>\n",
       "      <td>BRASILIA</td>\n",
       "      <td>Setor Sudoeste</td>\n",
       "    </tr>\n",
       "    <tr>\n",
       "      <th>3</th>\n",
       "      <td>3</td>\n",
       "      <td>GO - Goiás</td>\n",
       "      <td>02/01/2017</td>\n",
       "      <td>7,2</td>\n",
       "      <td>1,7</td>\n",
       "      <td>Noite</td>\n",
       "      <td>Masculino</td>\n",
       "      <td>Solteiro(a)</td>\n",
       "      <td>Ensino médio</td>\n",
       "      <td>Brasília</td>\n",
       "      <td>Setor Norte</td>\n",
       "    </tr>\n",
       "    <tr>\n",
       "      <th>4</th>\n",
       "      <td>4</td>\n",
       "      <td>GO - Goiás</td>\n",
       "      <td>09/01/2017</td>\n",
       "      <td>6,95</td>\n",
       "      <td>1,7</td>\n",
       "      <td>manhã</td>\n",
       "      <td>Feminino</td>\n",
       "      <td>Solteiro(a)</td>\n",
       "      <td>Superior</td>\n",
       "      <td>BRASÍLIA</td>\n",
       "      <td>Guará I</td>\n",
       "    </tr>\n",
       "  </tbody>\n",
       "</table>\n",
       "</div>"
      ],
      "text/plain": [
       "   Id   PlaceTest    DateTest  Rate TextRate HourTest        Sex MaritalStatus       Education   Hometown          Neighborhood\n",
       "0   0  GO - Goiás  13/01/2017  7,45      2,2    manhã  Masculino     Casado(a)    Ensino médio  fortaleza               Asa Sul\n",
       "1   1  GO - Goiás  10/01/2017   7,4      2,4    manhã  Masculino     Casado(a)  Especialização     Recife  Norte (Águas Claras)\n",
       "2   2  GO - Goiás  07/01/2017   7,3      1,8    manhã  Masculino     Casado(a)        Superior   BRASILIA        Setor Sudoeste\n",
       "3   3  GO - Goiás  02/01/2017   7,2      1,7    Noite  Masculino   Solteiro(a)    Ensino médio   Brasília           Setor Norte\n",
       "4   4  GO - Goiás  09/01/2017  6,95      1,7    manhã   Feminino   Solteiro(a)        Superior   BRASÍLIA               Guará I"
      ]
     },
     "execution_count": 4,
     "metadata": {},
     "output_type": "execute_result"
    }
   ],
   "source": [
    "# %%pycodestyle\n",
    "# Change Column names\n",
    "df.columns = ['Id', 'PlaceTest', 'DateTest',\n",
    "              'Rate', 'TextRate', 'HourTest',\n",
    "              'Sex', 'MaritalStatus', 'Education',\n",
    "              'Hometown', 'Neighborhood']\n",
    "\n",
    "# Create new dataframe with the changes and preserve the original\n",
    "# Drop ID column\n",
    "# df2 = df.drop(['Id'], axis=1)\n",
    "df2 = df\n",
    "\n",
    "# Show new dataframe\n",
    "df2.head()"
   ]
  },
  {
   "cell_type": "code",
   "execution_count": 5,
   "metadata": {},
   "outputs": [
    {
     "data": {
      "text/plain": [
       "True"
      ]
     },
     "execution_count": 5,
     "metadata": {},
     "output_type": "execute_result"
    }
   ],
   "source": [
    "# %%pycodestyle\n",
    "# Check if there is all values.\n",
    "df2.isnull().values.any()"
   ]
  },
  {
   "cell_type": "code",
   "execution_count": 6,
   "metadata": {},
   "outputs": [
    {
     "name": "stdout",
     "output_type": "stream",
     "text": [
      "Id :  False\n",
      "PlaceTest :  False\n",
      "DateTest :  True\n",
      "Rate :  False\n",
      "TextRate :  False\n",
      "HourTest :  True\n",
      "Sex :  True\n",
      "MaritalStatus :  True\n",
      "Education :  True\n",
      "Hometown :  True\n",
      "Neighborhood :  True\n",
      "None\n"
     ]
    }
   ],
   "source": [
    "# %%pycodestyle\n",
    "# Unique Counts\n",
    "\n",
    "\n",
    "def isNaN(df):\n",
    "    for i in df.columns:\n",
    "        count = df[i].isnull().values.any()\n",
    "        print(i, \": \", count)\n",
    "\n",
    "\n",
    "# Check all columns, True = There is NaN, False = There is no Nan.\n",
    "print(isNaN(df2))"
   ]
  },
  {
   "cell_type": "code",
   "execution_count": 7,
   "metadata": {},
   "outputs": [
    {
     "name": "stdout",
     "output_type": "stream",
     "text": [
      "dtypes: \n"
     ]
    },
    {
     "data": {
      "text/plain": [
       "Id                int64\n",
       "PlaceTest        object\n",
       "DateTest         object\n",
       "Rate             object\n",
       "TextRate         object\n",
       "HourTest         object\n",
       "Sex              object\n",
       "MaritalStatus    object\n",
       "Education        object\n",
       "Hometown         object\n",
       "Neighborhood     object\n",
       "dtype: object"
      ]
     },
     "execution_count": 7,
     "metadata": {},
     "output_type": "execute_result"
    }
   ],
   "source": [
    "# %%pycodestyle\n",
    "print('dtypes: ')\n",
    "df2.dtypes"
   ]
  },
  {
   "cell_type": "code",
   "execution_count": 8,
   "metadata": {},
   "outputs": [],
   "source": [
    "# %%pycodestyle\n",
    "# Change comma to dot.\n",
    "df2.Rate.replace(\",\", \".\", regex=True, inplace=True)\n",
    "df2.TextRate.replace(\",\", \".\", regex=True, inplace=True)\n",
    "df2.DateTest.replace(\"/\", \"-\", regex=True, inplace=True)\n",
    "# Transform Rate and TextRate to float.\n",
    "df2[[\"Rate\", \"TextRate\"]] = df2[[\"Rate\", \"TextRate\"]].apply(pd.to_numeric)"
   ]
  },
  {
   "cell_type": "code",
   "execution_count": 9,
   "metadata": {},
   "outputs": [],
   "source": [
    "# %%pycodestyle\n",
    "# Create new column to identify who has rate above zero.\n",
    "conditions = [(df2['Rate'] >= 5.0) & (df2['TextRate'] > 0.0)]\n",
    "choices = [1]\n",
    "\n",
    "df2['Approved'] = np.select(conditions, choices, default=0)\n"
   ]
  },
  {
   "cell_type": "code",
   "execution_count": 10,
   "metadata": {},
   "outputs": [],
   "source": [
    "# %%pycodestyle\n",
    "# Create new column to with All Rate.\n",
    "df2['AllRate'] = df2['Rate'] + df2['TextRate']\n"
   ]
  },
  {
   "cell_type": "code",
   "execution_count": 11,
   "metadata": {},
   "outputs": [],
   "source": [
    "# %%pycodestyle\n",
    "# Create new column to identify who doesn't got the rate above 0.\n",
    "conditions = [(df2['TextRate'] > 0.0)]\n",
    "choices = [1]\n",
    "\n",
    "df2['HasTextRate'] = np.select(conditions, choices, default=0)\n"
   ]
  },
  {
   "cell_type": "code",
   "execution_count": 12,
   "metadata": {},
   "outputs": [],
   "source": [
    "df2['DateTest'] = pd.to_datetime(df2['DateTest'])"
   ]
  },
  {
   "cell_type": "code",
   "execution_count": 13,
   "metadata": {},
   "outputs": [],
   "source": [
    "df2['Month'] = df2.DateTest.dt.month\n",
    "df2['Year'] = df2.DateTest.dt.year\n",
    "df2['Month'] = df2['Month'].fillna(0).astype(int)\n",
    "df2['Year'] = df2['Year'].fillna(0).astype(int)\n",
    "#df2[[\"Month\", \"Year\"]] = df2[[\"Month\", \"Year\"]].apply(pd.to_numeric)"
   ]
  },
  {
   "cell_type": "code",
   "execution_count": 14,
   "metadata": {
    "scrolled": false
   },
   "outputs": [
    {
     "data": {
      "text/html": [
       "<div>\n",
       "<style scoped>\n",
       "    .dataframe tbody tr th:only-of-type {\n",
       "        vertical-align: middle;\n",
       "    }\n",
       "\n",
       "    .dataframe tbody tr th {\n",
       "        vertical-align: top;\n",
       "    }\n",
       "\n",
       "    .dataframe thead th {\n",
       "        text-align: right;\n",
       "    }\n",
       "</style>\n",
       "<table border=\"1\" class=\"dataframe\">\n",
       "  <thead>\n",
       "    <tr style=\"text-align: right;\">\n",
       "      <th></th>\n",
       "      <th>Id</th>\n",
       "      <th>PlaceTest</th>\n",
       "      <th>DateTest</th>\n",
       "      <th>Rate</th>\n",
       "      <th>TextRate</th>\n",
       "      <th>HourTest</th>\n",
       "      <th>Sex</th>\n",
       "      <th>MaritalStatus</th>\n",
       "      <th>Education</th>\n",
       "      <th>Hometown</th>\n",
       "      <th>Neighborhood</th>\n",
       "      <th>Approved</th>\n",
       "      <th>AllRate</th>\n",
       "      <th>HasTextRate</th>\n",
       "      <th>Month</th>\n",
       "      <th>Year</th>\n",
       "    </tr>\n",
       "  </thead>\n",
       "  <tbody>\n",
       "    <tr>\n",
       "      <th>0</th>\n",
       "      <td>0</td>\n",
       "      <td>GO - Goiás</td>\n",
       "      <td>2017-01-13</td>\n",
       "      <td>7.45</td>\n",
       "      <td>2.2</td>\n",
       "      <td>manhã</td>\n",
       "      <td>Masculino</td>\n",
       "      <td>Casado(a)</td>\n",
       "      <td>Ensino médio</td>\n",
       "      <td>fortaleza</td>\n",
       "      <td>Asa Sul</td>\n",
       "      <td>1</td>\n",
       "      <td>9.65</td>\n",
       "      <td>1</td>\n",
       "      <td>1</td>\n",
       "      <td>2017</td>\n",
       "    </tr>\n",
       "    <tr>\n",
       "      <th>1</th>\n",
       "      <td>1</td>\n",
       "      <td>GO - Goiás</td>\n",
       "      <td>2017-10-01</td>\n",
       "      <td>7.40</td>\n",
       "      <td>2.4</td>\n",
       "      <td>manhã</td>\n",
       "      <td>Masculino</td>\n",
       "      <td>Casado(a)</td>\n",
       "      <td>Especialização</td>\n",
       "      <td>Recife</td>\n",
       "      <td>Norte (Águas Claras)</td>\n",
       "      <td>1</td>\n",
       "      <td>9.80</td>\n",
       "      <td>1</td>\n",
       "      <td>10</td>\n",
       "      <td>2017</td>\n",
       "    </tr>\n",
       "    <tr>\n",
       "      <th>2</th>\n",
       "      <td>2</td>\n",
       "      <td>GO - Goiás</td>\n",
       "      <td>2017-07-01</td>\n",
       "      <td>7.30</td>\n",
       "      <td>1.8</td>\n",
       "      <td>manhã</td>\n",
       "      <td>Masculino</td>\n",
       "      <td>Casado(a)</td>\n",
       "      <td>Superior</td>\n",
       "      <td>BRASILIA</td>\n",
       "      <td>Setor Sudoeste</td>\n",
       "      <td>1</td>\n",
       "      <td>9.10</td>\n",
       "      <td>1</td>\n",
       "      <td>7</td>\n",
       "      <td>2017</td>\n",
       "    </tr>\n",
       "    <tr>\n",
       "      <th>3</th>\n",
       "      <td>3</td>\n",
       "      <td>GO - Goiás</td>\n",
       "      <td>2017-02-01</td>\n",
       "      <td>7.20</td>\n",
       "      <td>1.7</td>\n",
       "      <td>Noite</td>\n",
       "      <td>Masculino</td>\n",
       "      <td>Solteiro(a)</td>\n",
       "      <td>Ensino médio</td>\n",
       "      <td>Brasília</td>\n",
       "      <td>Setor Norte</td>\n",
       "      <td>1</td>\n",
       "      <td>8.90</td>\n",
       "      <td>1</td>\n",
       "      <td>2</td>\n",
       "      <td>2017</td>\n",
       "    </tr>\n",
       "    <tr>\n",
       "      <th>4</th>\n",
       "      <td>4</td>\n",
       "      <td>GO - Goiás</td>\n",
       "      <td>2017-09-01</td>\n",
       "      <td>6.95</td>\n",
       "      <td>1.7</td>\n",
       "      <td>manhã</td>\n",
       "      <td>Feminino</td>\n",
       "      <td>Solteiro(a)</td>\n",
       "      <td>Superior</td>\n",
       "      <td>BRASÍLIA</td>\n",
       "      <td>Guará I</td>\n",
       "      <td>1</td>\n",
       "      <td>8.65</td>\n",
       "      <td>1</td>\n",
       "      <td>9</td>\n",
       "      <td>2017</td>\n",
       "    </tr>\n",
       "  </tbody>\n",
       "</table>\n",
       "</div>"
      ],
      "text/plain": [
       "   Id   PlaceTest   DateTest  Rate  TextRate HourTest        Sex MaritalStatus       Education   Hometown          Neighborhood  Approved  AllRate  HasTextRate  Month  Year\n",
       "0   0  GO - Goiás 2017-01-13  7.45       2.2    manhã  Masculino     Casado(a)    Ensino médio  fortaleza               Asa Sul         1     9.65            1      1  2017\n",
       "1   1  GO - Goiás 2017-10-01  7.40       2.4    manhã  Masculino     Casado(a)  Especialização     Recife  Norte (Águas Claras)         1     9.80            1     10  2017\n",
       "2   2  GO - Goiás 2017-07-01  7.30       1.8    manhã  Masculino     Casado(a)        Superior   BRASILIA        Setor Sudoeste         1     9.10            1      7  2017\n",
       "3   3  GO - Goiás 2017-02-01  7.20       1.7    Noite  Masculino   Solteiro(a)    Ensino médio   Brasília           Setor Norte         1     8.90            1      2  2017\n",
       "4   4  GO - Goiás 2017-09-01  6.95       1.7    manhã   Feminino   Solteiro(a)        Superior   BRASÍLIA               Guará I         1     8.65            1      9  2017"
      ]
     },
     "execution_count": 14,
     "metadata": {},
     "output_type": "execute_result"
    }
   ],
   "source": [
    "df2.head()"
   ]
  },
  {
   "cell_type": "code",
   "execution_count": 15,
   "metadata": {},
   "outputs": [
    {
     "name": "stdout",
     "output_type": "stream",
     "text": [
      "dtypes: \n"
     ]
    },
    {
     "data": {
      "text/plain": [
       "Id                        int64\n",
       "PlaceTest                object\n",
       "DateTest         datetime64[ns]\n",
       "Rate                    float64\n",
       "TextRate                float64\n",
       "HourTest                 object\n",
       "Sex                      object\n",
       "MaritalStatus            object\n",
       "Education                object\n",
       "Hometown                 object\n",
       "Neighborhood             object\n",
       "Approved                  int64\n",
       "AllRate                 float64\n",
       "HasTextRate               int64\n",
       "Month                     int64\n",
       "Year                      int64\n",
       "dtype: object"
      ]
     },
     "execution_count": 15,
     "metadata": {},
     "output_type": "execute_result"
    }
   ],
   "source": [
    "# %%pycodestyle\n",
    "print('dtypes: ')\n",
    "df2.dtypes"
   ]
  },
  {
   "cell_type": "code",
   "execution_count": 16,
   "metadata": {},
   "outputs": [
    {
     "name": "stdout",
     "output_type": "stream",
     "text": [
      "Decribe: \n"
     ]
    },
    {
     "data": {
      "text/html": [
       "<div>\n",
       "<style scoped>\n",
       "    .dataframe tbody tr th:only-of-type {\n",
       "        vertical-align: middle;\n",
       "    }\n",
       "\n",
       "    .dataframe tbody tr th {\n",
       "        vertical-align: top;\n",
       "    }\n",
       "\n",
       "    .dataframe thead th {\n",
       "        text-align: right;\n",
       "    }\n",
       "</style>\n",
       "<table border=\"1\" class=\"dataframe\">\n",
       "  <thead>\n",
       "    <tr style=\"text-align: right;\">\n",
       "      <th></th>\n",
       "      <th>Id</th>\n",
       "      <th>Rate</th>\n",
       "      <th>TextRate</th>\n",
       "      <th>Approved</th>\n",
       "      <th>AllRate</th>\n",
       "      <th>HasTextRate</th>\n",
       "      <th>Month</th>\n",
       "      <th>Year</th>\n",
       "    </tr>\n",
       "  </thead>\n",
       "  <tbody>\n",
       "    <tr>\n",
       "      <th>count</th>\n",
       "      <td>12100.000000</td>\n",
       "      <td>12100.000000</td>\n",
       "      <td>12100.000000</td>\n",
       "      <td>12100.000000</td>\n",
       "      <td>12100.000000</td>\n",
       "      <td>12100.000000</td>\n",
       "      <td>12100.000000</td>\n",
       "      <td>12100.000000</td>\n",
       "    </tr>\n",
       "    <tr>\n",
       "      <th>mean</th>\n",
       "      <td>6049.500000</td>\n",
       "      <td>4.577988</td>\n",
       "      <td>0.874373</td>\n",
       "      <td>0.481570</td>\n",
       "      <td>5.452361</td>\n",
       "      <td>0.532314</td>\n",
       "      <td>5.327273</td>\n",
       "      <td>2009.950909</td>\n",
       "    </tr>\n",
       "    <tr>\n",
       "      <th>std</th>\n",
       "      <td>3493.113463</td>\n",
       "      <td>1.704218</td>\n",
       "      <td>0.855287</td>\n",
       "      <td>0.499681</td>\n",
       "      <td>2.510222</td>\n",
       "      <td>0.498975</td>\n",
       "      <td>4.050736</td>\n",
       "      <td>115.761342</td>\n",
       "    </tr>\n",
       "    <tr>\n",
       "      <th>min</th>\n",
       "      <td>0.000000</td>\n",
       "      <td>0.750000</td>\n",
       "      <td>0.000000</td>\n",
       "      <td>0.000000</td>\n",
       "      <td>0.750000</td>\n",
       "      <td>0.000000</td>\n",
       "      <td>0.000000</td>\n",
       "      <td>0.000000</td>\n",
       "    </tr>\n",
       "    <tr>\n",
       "      <th>25%</th>\n",
       "      <td>3024.750000</td>\n",
       "      <td>3.000000</td>\n",
       "      <td>0.000000</td>\n",
       "      <td>0.000000</td>\n",
       "      <td>3.000000</td>\n",
       "      <td>0.000000</td>\n",
       "      <td>1.000000</td>\n",
       "      <td>2016.000000</td>\n",
       "    </tr>\n",
       "    <tr>\n",
       "      <th>50%</th>\n",
       "      <td>6049.500000</td>\n",
       "      <td>4.850000</td>\n",
       "      <td>1.100000</td>\n",
       "      <td>0.000000</td>\n",
       "      <td>6.150000</td>\n",
       "      <td>1.000000</td>\n",
       "      <td>5.000000</td>\n",
       "      <td>2017.000000</td>\n",
       "    </tr>\n",
       "    <tr>\n",
       "      <th>75%</th>\n",
       "      <td>9074.250000</td>\n",
       "      <td>5.950000</td>\n",
       "      <td>1.700000</td>\n",
       "      <td>1.000000</td>\n",
       "      <td>7.600000</td>\n",
       "      <td>1.000000</td>\n",
       "      <td>8.000000</td>\n",
       "      <td>2017.000000</td>\n",
       "    </tr>\n",
       "    <tr>\n",
       "      <th>max</th>\n",
       "      <td>12099.000000</td>\n",
       "      <td>10.000000</td>\n",
       "      <td>2.500000</td>\n",
       "      <td>1.000000</td>\n",
       "      <td>12.500000</td>\n",
       "      <td>1.000000</td>\n",
       "      <td>12.000000</td>\n",
       "      <td>2017.000000</td>\n",
       "    </tr>\n",
       "  </tbody>\n",
       "</table>\n",
       "</div>"
      ],
      "text/plain": [
       "                 Id          Rate      TextRate      Approved       AllRate   HasTextRate         Month          Year\n",
       "count  12100.000000  12100.000000  12100.000000  12100.000000  12100.000000  12100.000000  12100.000000  12100.000000\n",
       "mean    6049.500000      4.577988      0.874373      0.481570      5.452361      0.532314      5.327273   2009.950909\n",
       "std     3493.113463      1.704218      0.855287      0.499681      2.510222      0.498975      4.050736    115.761342\n",
       "min        0.000000      0.750000      0.000000      0.000000      0.750000      0.000000      0.000000      0.000000\n",
       "25%     3024.750000      3.000000      0.000000      0.000000      3.000000      0.000000      1.000000   2016.000000\n",
       "50%     6049.500000      4.850000      1.100000      0.000000      6.150000      1.000000      5.000000   2017.000000\n",
       "75%     9074.250000      5.950000      1.700000      1.000000      7.600000      1.000000      8.000000   2017.000000\n",
       "max    12099.000000     10.000000      2.500000      1.000000     12.500000      1.000000     12.000000   2017.000000"
      ]
     },
     "execution_count": 16,
     "metadata": {},
     "output_type": "execute_result"
    }
   ],
   "source": [
    "# %%pycodestyle\n",
    "print('Decribe: ')\n",
    "df2.describe()"
   ]
  },
  {
   "cell_type": "code",
   "execution_count": 17,
   "metadata": {},
   "outputs": [
    {
     "ename": "ModuleNotFoundError",
     "evalue": "No module named 'pandasql'",
     "output_type": "error",
     "traceback": [
      "\u001b[0;31m---------------------------------------------------------------------------\u001b[0m",
      "\u001b[0;31mModuleNotFoundError\u001b[0m                       Traceback (most recent call last)",
      "\u001b[0;32m<ipython-input-17-516101e7aaa3>\u001b[0m in \u001b[0;36m<module>\u001b[0;34m()\u001b[0m\n\u001b[1;32m      1\u001b[0m \u001b[0;31m#!pip install pandasql\u001b[0m\u001b[0;34m\u001b[0m\u001b[0;34m\u001b[0m\u001b[0m\n\u001b[0;32m----> 2\u001b[0;31m \u001b[0;32mfrom\u001b[0m \u001b[0mpandasql\u001b[0m \u001b[0;32mimport\u001b[0m \u001b[0msqldf\u001b[0m\u001b[0;34m\u001b[0m\u001b[0m\n\u001b[0m\u001b[1;32m      3\u001b[0m \u001b[0;32mfrom\u001b[0m \u001b[0mpandasql\u001b[0m \u001b[0;32mimport\u001b[0m \u001b[0mload_meat\u001b[0m\u001b[0;34m,\u001b[0m \u001b[0mload_births\u001b[0m\u001b[0;34m\u001b[0m\u001b[0m\n\u001b[1;32m      4\u001b[0m \u001b[0;32mimport\u001b[0m \u001b[0mmatplotlib\u001b[0m\u001b[0;34m.\u001b[0m\u001b[0mpyplot\u001b[0m \u001b[0;32mas\u001b[0m \u001b[0mplt\u001b[0m\u001b[0;34m\u001b[0m\u001b[0m\n\u001b[1;32m      5\u001b[0m \u001b[0msqlqry\u001b[0m \u001b[0;34m=\u001b[0m \u001b[0msqldf\u001b[0m\u001b[0;34m(\u001b[0m\u001b[0;34m\"select Year, COUNT(Approved) as People from df2 WHERE Approved = 1 group by 1 order by 1\"\u001b[0m\u001b[0;34m)\u001b[0m\u001b[0;34m\u001b[0m\u001b[0m\n",
      "\u001b[0;31mModuleNotFoundError\u001b[0m: No module named 'pandasql'"
     ]
    }
   ],
   "source": [
    "!pip install pandasql\n",
    "from pandasql import sqldf\n",
    "from pandasql import load_meat, load_births\n",
    "import matplotlib.pyplot as plt\n",
    "sqlqry = sqldf(\"select Year, COUNT(Approved) as People from df2 WHERE Approved = 1 group by 1 order by 1\")\n",
    "\n",
    "# print(sqlqry['Year'])\n",
    "# print(sqlqry['People'])\n",
    "\n",
    "x = ['0', '2016', '2017']\n",
    "y = [14, 2863, 2949]\n",
    "plt.bar(x, y)\n",
    "plt.xticks(sqlqry['Year'])\n",
    "plt.show()"
   ]
  },
  {
   "cell_type": "code",
   "execution_count": null,
   "metadata": {},
   "outputs": [],
   "source": [
    "sqlqry = sqldf(\"select Education, COUNT(Approved) as Approved from df2 WHERE Approved = 1 group by 1 order by 1\")\n",
    "\n",
    "print(sqlqry['Approved'].fillna(0))\n",
    "print(sqlqry['Education'].fillna(0))\n",
    "\n",
    "# \"0\", \"Doutorado\", \"Ensino fundamental\", \"Ensino mï¿½dio\", \"Especializaï¿½ï¿½o\", \"MBA\", \"Mestrado\", \"Nï¿½o informado\", \"Nï¿½vel tï¿½cnico\", \"Superior\", \"Superior incompleto\"\n",
    "y = [14, 8, 10, 3185, 245, 21, 51, 4, 208, 1489, 591]\n",
    "x = [\"0\", \"D\", \"EF\", \"EM\", \"ESP\", \"MBA\", \"MSC\", \"N/A\", \"NT\", \"S\", \"SI\"]\n",
    "plt.bar(x, y)\n",
    "print(x, y)\n",
    "#plt.show()"
   ]
  },
  {
   "cell_type": "code",
   "execution_count": null,
   "metadata": {},
   "outputs": [],
   "source": [
    "sqlqry = sqldf(\"select PlaceTest, COUNT(Approved) as Approved from df2 WHERE Approved = 1 group by 1 order by 1\")\n",
    "\n",
    "print(sqlqry['Approved'].fillna(0))\n",
    "print(sqlqry['PlaceTest'].fillna(0))\n",
    "\n",
    "y = [65, 411, 292, 49, 581, 334, 431, 416, 165, 622, 348, 84, 60, 480, 83, 209, 326, 280, 320, 73, 197]\n",
    "x = [\"AM\", \"BA\", \"CE\", \"ES\", \"GO\", \"MA\", \"MG\", \"MS\", \"MT\", \"PA\", \"PB\", \"PE\", \"PI\", \"RJ\", \"RN\", \"RO\", \"RR\", \"RS\", \"SC\", \"SE\", \"TO\"]\n",
    "plt.bar(x, y)\n",
    "print(x, y)\n",
    "#plt.show()"
   ]
  },
  {
   "cell_type": "code",
   "execution_count": null,
   "metadata": {},
   "outputs": [],
   "source": [
    "sqlqry = sqldf(\"select MaritalStatus, COUNT(Approved) as Approved from df2 WHERE Approved = 1 group by 1 order by 1\")\n",
    "\n",
    "print(sqlqry['Approved'].fillna(0))\n",
    "print(sqlqry['MaritalStatus'].fillna(0))\n",
    "\n",
    "y = [14, 1, 1782, 249, 59, 3700, 21]\n",
    "x = [\"0\", \"0\", \"C\", \"D\", \"SE\", \"SO\", \"V\"]\n",
    "plt.bar(x, y)\n",
    "print(x, y)\n",
    "#plt.show()"
   ]
  },
  {
   "cell_type": "code",
   "execution_count": null,
   "metadata": {},
   "outputs": [],
   "source": [
    "sqlqry = sqldf(\"select MaritalStatus, Education, COUNT(Approved) as Approved from df2 WHERE Approved = 1 AND MaritalStatus = 4 AND Education = 8 group by MaritalStatus, Education order by 1\")\n",
    "# (Approved = 1 AND MaritalStatus = 4) AND (Approved = 1 AND MaritalStatus = 1) AND (Approved = 1 AND Education = 3) AND (Approved = 1 AND Education = 8) AND (Approved = 1 AND Education = 9) \n",
    "\n",
    "# print(sqlqry['Approved'].fillna(0))\n",
    "sqlqry\n",
    "# y = [14, 1, 1782, 249, 59, 3700, 21]\n",
    "# x = [\"0\", \"0\", \"C\", \"D\", \"SE\", \"SO\", \"V\"]\n",
    "# plt.bar(x, y)\n",
    "# print(x, y)\n",
    "#plt.show()"
   ]
  },
  {
   "cell_type": "code",
   "execution_count": null,
   "metadata": {
    "scrolled": true
   },
   "outputs": [],
   "source": [
    "# %%pycodestyle\n",
    "# Unique Counts\n",
    "\n",
    "\n",
    "def unique_counts(df):\n",
    "    for i in df.columns:\n",
    "        count = df[i].nunique()\n",
    "        print(i, \": \", count)\n",
    "\n",
    "\n",
    "print(unique_counts(df2))"
   ]
  },
  {
   "cell_type": "code",
   "execution_count": null,
   "metadata": {},
   "outputs": [],
   "source": [
    "# %%pycodestyle\n",
    "print('Sex: ', df.Sex.unique())\n",
    "print('HourTest: ', df.HourTest.unique())\n",
    "print('MaritalStatus: ', df.MaritalStatus.unique())\n",
    "print('Education: ', df.Education.unique())\n",
    "print('PlaceTest: ', df.PlaceTest.unique())\n",
    "print('Month: ', df.Month.unique())"
   ]
  },
  {
   "cell_type": "code",
   "execution_count": null,
   "metadata": {},
   "outputs": [],
   "source": [
    "# %%pycodestyle\n",
    "# Change Sex from text to integer: 0 - NaN, 1-Male, 2-Female.\n",
    "conditions = [(df2['Sex'] == 'Masculino'),\n",
    "              (df2['Sex'] == 'Feminino')]\n",
    "choices = [1, 2]\n",
    "\n",
    "df2['Sex'] = np.select(conditions, choices, default=0)"
   ]
  },
  {
   "cell_type": "code",
   "execution_count": null,
   "metadata": {
    "scrolled": true
   },
   "outputs": [],
   "source": [
    "df2.groupby('Sex').apply(lambda df2: df2.sample(1))"
   ]
  },
  {
   "cell_type": "code",
   "execution_count": null,
   "metadata": {},
   "outputs": [],
   "source": [
    "# %%pycodestyle\n",
    "# Change HourTest from text to integer: 0 - NaN, 1-Morning, 2-Evening\n",
    "conditions = [(df2['HourTest'] == 'manhã'),\n",
    "              (df2['HourTest'] == 'Noite')]\n",
    "choices = [1, 2]\n",
    "\n",
    "df2['HourTest'] = np.select(conditions, choices, default=0)"
   ]
  },
  {
   "cell_type": "code",
   "execution_count": null,
   "metadata": {
    "scrolled": true
   },
   "outputs": [],
   "source": [
    "df2.groupby('HourTest').apply(lambda df2: df2.sample(1))"
   ]
  },
  {
   "cell_type": "code",
   "execution_count": null,
   "metadata": {},
   "outputs": [],
   "source": [
    "# %%pycodestyle\n",
    "# Change MaritalStatus from text to integer: 0 - NaN or 0,\n",
    "# 1-Married, 2-Divorced, 3-Separated, 4-Single, 5-Widow\n",
    "conditions = [(df2['MaritalStatus'] == 'Casado(a)'),\n",
    "              (df2['MaritalStatus'] == 'Divorciado(a)'),\n",
    "              (df2['MaritalStatus'] == 'Separado(a)'),\n",
    "              (df2['MaritalStatus'] == 'Solteiro(a)'),\n",
    "              (df2['MaritalStatus'] == 'Viúvo(a)')]\n",
    "choices = [1, 2, 3, 4, 5]\n",
    "\n",
    "df2['MaritalStatus'] = np.select(conditions, choices, default=0)"
   ]
  },
  {
   "cell_type": "code",
   "execution_count": null,
   "metadata": {
    "scrolled": true
   },
   "outputs": [],
   "source": [
    "df2.groupby('MaritalStatus').apply(lambda df2: df2.sample(1))"
   ]
  },
  {
   "cell_type": "code",
   "execution_count": null,
   "metadata": {},
   "outputs": [],
   "source": [
    "# %%pycodestyle\n",
    "# Change Education from text to integer:\n",
    "# 0-NaN \n",
    "# 1-Doutorado\n",
    "# 2-Ensino fundamental\n",
    "# 3-Ensino médio\n",
    "# 4-Especialização\n",
    "# 5-MBA\n",
    "# 6-Mestrado\n",
    "# 7-Nível Técnico\n",
    "# 8-Superior\n",
    "# 9-Superior incompleto\n",
    "# 10-Não informado\n",
    "conditions = [(df2['Education'] == 'Doutorado'),\n",
    "              (df2['Education'] == 'Ensino fundamental'),\n",
    "              (df2['Education'] == 'Ensino médio'),\n",
    "              (df2['Education'] == 'Especialização'),\n",
    "              (df2['Education'] == 'MBA'),\n",
    "              (df2['Education'] == 'Mestrado'),\n",
    "              (df2['Education'] == 'Nível Técnico'),\n",
    "              (df2['Education'] == 'Superior'),\n",
    "              (df2['Education'] == 'Superior incompleto'),\n",
    "              (df2['Education'] == 'Não informado')]\n",
    "choices = [1, 2, 3, 4, 5, 6, 7, 8, 9, 10]\n",
    "\n",
    "df2['Education'] = np.select(conditions, choices, default=0)"
   ]
  },
  {
   "cell_type": "code",
   "execution_count": null,
   "metadata": {
    "scrolled": false
   },
   "outputs": [],
   "source": [
    "df2.groupby('Education').apply(lambda df2: df2.sample(1))"
   ]
  },
  {
   "cell_type": "code",
   "execution_count": null,
   "metadata": {},
   "outputs": [],
   "source": [
    "# %%pycodestyle\n",
    "# Change Placetest from text to integer: 0 - NaN,\n",
    "# 1-MG - Minas Gerais\n",
    "# 2-MS - Mato Grosso do Sul\n",
    "# 3-PA - Pará\n",
    "# 4-PB - Paraíba\n",
    "# 5-RJ - Rio de Janeiro\n",
    "# 6-SC - Santa Catarina\n",
    "# 7-SE - Sergipe\n",
    "# 8-CE - Ceará\n",
    "# 9-PI - Piauí\n",
    "# 10-RN - Rio Grande do Norte\n",
    "# 11-BA - Bahia\n",
    "# 12-RS - Rio Grande do Sul\n",
    "# 13-RO - Rondônia\n",
    "# 14-MT - Mato Grosso\n",
    "# 15-PE - Pernambuco\n",
    "# 16-RR - Roraima\n",
    "# 17-MA - Maranhão\n",
    "# 18-ES - Espírito Santo\n",
    "# 19-TO - Tocantins\n",
    "# 20-AM - Amazonas\n",
    "# 21-GO - Goiás\n",
    "conditions = [(df2['PlaceTest'] == 'MG - Minas Gerais'),\n",
    "              (df2['PlaceTest'] == 'MS - Mato Grosso do Sul'),\n",
    "              (df2['PlaceTest'] == 'PA - Parï¿½'),\n",
    "              (df2['PlaceTest'] == 'PB - Paraï¿½ba'),\n",
    "              (df2['PlaceTest'] == 'RJ - Rio de Janeiro'),\n",
    "              (df2['PlaceTest'] == 'SC - Santa Catarina'),\n",
    "              (df2['PlaceTest'] == 'SE - Sergipe'),\n",
    "              (df2['PlaceTest'] == 'CE - Cearï¿½'),\n",
    "              (df2['PlaceTest'] == 'PI - Piauï¿½'),\n",
    "              (df2['PlaceTest'] == 'RN - Rio Grande do Norte'),\n",
    "              (df2['PlaceTest'] == 'BA - Bahia'),\n",
    "              (df2['PlaceTest'] == 'RS - Rio Grande do Sul'),\n",
    "              (df2['PlaceTest'] == 'RO - Rondï¿½nia'),\n",
    "              (df2['PlaceTest'] == 'MT - Mato Grosso'),\n",
    "              (df2['PlaceTest'] == 'PE - Pernambuco'),\n",
    "              (df2['PlaceTest'] == 'RR - Roraima'),\n",
    "              (df2['PlaceTest'] == 'MA - Maranhï¿½o'),\n",
    "              (df2['PlaceTest'] == 'ES - Espï¿½rito Santo'),\n",
    "              (df2['PlaceTest'] == 'TO - Tocantins'),\n",
    "              (df2['PlaceTest'] == 'AM - Amazonas'),\n",
    "              (df2['PlaceTest'] == 'GO - Goiï¿½s'),\n",
    "              ]\n",
    "choices = [1, 2, 3, 4, 5, 6, 7, 8, 9, 10, 11, 12, 13, 14,\n",
    "           15, 16, 17, 18, 19, 20, 21]\n",
    "\n",
    "df2['PlaceTest'] = np.select(conditions, choices, default=0)"
   ]
  },
  {
   "cell_type": "code",
   "execution_count": null,
   "metadata": {},
   "outputs": [],
   "source": [
    "df2.groupby('PlaceTest').apply(lambda df2: df2.sample(1))"
   ]
  },
  {
   "cell_type": "code",
   "execution_count": null,
   "metadata": {},
   "outputs": [],
   "source": [
    "df2.head()"
   ]
  },
  {
   "cell_type": "code",
   "execution_count": null,
   "metadata": {},
   "outputs": [],
   "source": [
    "df2[['Rate', 'TextRate']].describe()"
   ]
  },
  {
   "cell_type": "code",
   "execution_count": null,
   "metadata": {},
   "outputs": [],
   "source": [
    "pd.crosstab(df2['Approved'], df2['PlaceTest'])\n",
    "\n",
    "\n",
    "#pd.crosstab(sample['is_booking'], sample['srch_rm_cnt'])\n",
    "#sample.groupby('srch_rm_cnt')['is_booking'].mean()\n",
    "#sample['srch_children_cnt'].corr(sample['is_booking'])\n",
    "#sample.corr()"
   ]
  },
  {
   "cell_type": "code",
   "execution_count": null,
   "metadata": {},
   "outputs": [],
   "source": [
    "df2[['PlaceTest', 'DateTest', 'Rate', 'TextRate', 'HourTest', 'Sex', 'MaritalStatus', 'Education', 'Hometown', 'Neighborhood', 'Approved']].hist()"
   ]
  },
  {
   "cell_type": "code",
   "execution_count": null,
   "metadata": {},
   "outputs": [],
   "source": [
    "df2.groupby('Approved')['Approved']\\\n",
    "    .agg({'HowMany': 'count'})\\"
   ]
  },
  {
   "cell_type": "code",
   "execution_count": null,
   "metadata": {},
   "outputs": [],
   "source": [
    "df2.assign(NotApproved=1 - df2['Approved']).groupby('PlaceTest').sum().reset_index()"
   ]
  },
  {
   "cell_type": "code",
   "execution_count": null,
   "metadata": {},
   "outputs": [],
   "source": [
    "df_Winners = df2[df2.Approved == 1]\n",
    "df_Losers = df2[df2.Approved == 0]"
   ]
  },
  {
   "cell_type": "code",
   "execution_count": null,
   "metadata": {},
   "outputs": [],
   "source": [
    "df_Winners.describe()\n",
    "df_Losers.describe()"
   ]
  },
  {
   "cell_type": "code",
   "execution_count": null,
   "metadata": {
    "scrolled": true
   },
   "outputs": [],
   "source": [
    "df_Winners.groupby(['PlaceTest']).aggregate('count').reset_index().sort_values('PlaceTest', ascending=False)"
   ]
  },
  {
   "cell_type": "code",
   "execution_count": null,
   "metadata": {},
   "outputs": [],
   "source": [
    "df_Winners = df_Winners.drop(['Id', 'Neighborhood', 'DateTest', 'Hometown', 'Year'], axis=1)"
   ]
  },
  {
   "cell_type": "code",
   "execution_count": null,
   "metadata": {},
   "outputs": [],
   "source": [
    "df_Winners = scale(df_Winners)"
   ]
  },
  {
   "cell_type": "code",
   "execution_count": null,
   "metadata": {},
   "outputs": [],
   "source": [
    "df_Winners"
   ]
  },
  {
   "cell_type": "code",
   "execution_count": null,
   "metadata": {},
   "outputs": [],
   "source": [
    "sample = np.arange(1, 5826, 10)"
   ]
  },
  {
   "cell_type": "code",
   "execution_count": null,
   "metadata": {},
   "outputs": [],
   "source": [
    "df_Winners_sample = df_Winners[sample,]"
   ]
  },
  {
   "cell_type": "code",
   "execution_count": null,
   "metadata": {},
   "outputs": [],
   "source": [
    "from scipy.spatial.distance import pdist\n",
    "d = pdist(df_Winners_sample)"
   ]
  },
  {
   "cell_type": "code",
   "execution_count": null,
   "metadata": {},
   "outputs": [],
   "source": [
    "from scipy.cluster.hierarchy import ward\n",
    "from scipy.cluster.hierarchy import dendrogram\n",
    "from scipy.cluster.hierarchy import cut_tree\n",
    "\n",
    "c = ward(d)\n",
    "d = dendrogram(c)"
   ]
  },
  {
   "cell_type": "code",
   "execution_count": null,
   "metadata": {},
   "outputs": [],
   "source": [
    "cutree = cut_tree(c, n_clusters=[20, 50])\n",
    "cutree[1:10]"
   ]
  },
  {
   "cell_type": "code",
   "execution_count": null,
   "metadata": {},
   "outputs": [],
   "source": [
    "as.matrix(cutree)"
   ]
  },
  {
   "cell_type": "code",
   "execution_count": null,
   "metadata": {
    "scrolled": true
   },
   "outputs": [],
   "source": [
    "df2.MaritalStatus.value_counts()[:].plot(kind='bar')"
   ]
  },
  {
   "cell_type": "code",
   "execution_count": null,
   "metadata": {
    "scrolled": true
   },
   "outputs": [],
   "source": [
    "df2.Sex.value_counts()[:].plot(kind='bar')"
   ]
  },
  {
   "cell_type": "code",
   "execution_count": null,
   "metadata": {
    "scrolled": true
   },
   "outputs": [],
   "source": [
    "df2.HourTest.value_counts()[:].plot(kind='bar')"
   ]
  },
  {
   "cell_type": "code",
   "execution_count": null,
   "metadata": {
    "scrolled": true
   },
   "outputs": [],
   "source": [
    "df2.Education.value_counts()[:].plot(kind='bar')"
   ]
  },
  {
   "cell_type": "code",
   "execution_count": null,
   "metadata": {},
   "outputs": [],
   "source": [
    "df2.PlaceTest.value_counts()[:].plot(kind='bar')"
   ]
  },
  {
   "cell_type": "code",
   "execution_count": null,
   "metadata": {
    "scrolled": true
   },
   "outputs": [],
   "source": [
    "rfmTable = df_Winners.groupby('PlaceTest').agg({'Id': lambda x: x.count()})\n",
    "\n",
    "rfmTable['Id'] = rfmTable['Id'].astype(int)\n",
    "rfmTable.rename(columns={'Id': 'frequency'}, inplace=True)\n",
    "rfmTable"
   ]
  },
  {
   "cell_type": "code",
   "execution_count": null,
   "metadata": {},
   "outputs": [],
   "source": [
    "from matplotlib import pyplot as plt\n",
    "from sklearn.tree import DecisionTreeClassifier\n",
    "from sklearn.model_selection import train_test_split\n",
    "from sklearn.metrics import confusion_matrix\n",
    "from sklearn.metrics import accuracy_score"
   ]
  },
  {
   "cell_type": "code",
   "execution_count": null,
   "metadata": {},
   "outputs": [],
   "source": [
    "# %%pycodestyle\n",
    "# Correlation\n",
    "cols = ['PlaceTest', 'HourTest', 'Sex', 'MaritalStatus', 'Education']\n",
    "print(df2[cols].corr())"
   ]
  },
  {
   "cell_type": "code",
   "execution_count": null,
   "metadata": {},
   "outputs": [],
   "source": [
    "# Attributes and target variables\n",
    "features = df2[['PlaceTest', 'HourTest','MaritalStatus', 'Education', 'AllRate']]\n",
    "targetVariables = df2.Approved"
   ]
  },
  {
   "cell_type": "code",
   "execution_count": null,
   "metadata": {},
   "outputs": [],
   "source": [
    "import numpy as np\n",
    "import matplotlib.pyplot as plt\n",
    "from sklearn.ensemble import RandomForestClassifier\n",
    "from sklearn.datasets import load_digits\n",
    "from sklearn.preprocessing import scale\n",
    "%matplotlib inline"
   ]
  },
  {
   "cell_type": "code",
   "execution_count": null,
   "metadata": {},
   "outputs": [],
   "source": [
    "# Obtains the observation numbers and attribute numbers\n",
    "n_observ, n_features = df2.shape"
   ]
  },
  {
   "cell_type": "code",
   "execution_count": null,
   "metadata": {},
   "outputs": [],
   "source": [
    "df"
   ]
  },
  {
   "cell_type": "code",
   "execution_count": null,
   "metadata": {},
   "outputs": [],
   "source": [
    "# Applies data scale\n",
    "df3 = df2\n",
    "#df3['Rate'] = scale(df3.Rate)\n",
    "#df3['TextRate'] = scale(df3.TextRate)\n",
    "#df3['AllRate'] = scale(df3.AllRate)"
   ]
  },
  {
   "cell_type": "code",
   "execution_count": null,
   "metadata": {},
   "outputs": [],
   "source": [
    "df.head()"
   ]
  },
  {
   "cell_type": "code",
   "execution_count": null,
   "metadata": {},
   "outputs": [],
   "source": [
    "n_observ"
   ]
  },
  {
   "cell_type": "code",
   "execution_count": null,
   "metadata": {},
   "outputs": [],
   "source": [
    "n_features"
   ]
  },
  {
   "cell_type": "code",
   "execution_count": null,
   "metadata": {},
   "outputs": [],
   "source": [
    "# Obtains the labels\n",
    "n_digits = len(np.unique(df3.Approved))\n",
    "labels = df3.Approved"
   ]
  },
  {
   "cell_type": "code",
   "execution_count": null,
   "metadata": {},
   "outputs": [],
   "source": [
    "df3 = df3.drop(columns=['Id', 'Rate', 'TextRate', 'AllRate', 'DateTest', 'Neighborhood', 'Hometown'])"
   ]
  },
  {
   "cell_type": "code",
   "execution_count": null,
   "metadata": {
    "scrolled": true
   },
   "outputs": [],
   "source": [
    "labels\n",
    "df3.head()"
   ]
  },
  {
   "cell_type": "code",
   "execution_count": null,
   "metadata": {},
   "outputs": [],
   "source": [
    "# Creates classifier\n",
    "# http://scikit-learn.org/stable/modules/generated/sklearn.ensemble.RandomForestClassifier.html\n",
    "clf = RandomForestClassifier(n_estimators  = 10)"
   ]
  },
  {
   "cell_type": "code",
   "execution_count": null,
   "metadata": {
    "scrolled": true
   },
   "outputs": [],
   "source": [
    "# Model construction\n",
    "clf = clf.fit(df3, labels)"
   ]
  },
  {
   "cell_type": "code",
   "execution_count": null,
   "metadata": {},
   "outputs": [],
   "source": [
    "scores = clf.score(df3,labels)"
   ]
  },
  {
   "cell_type": "code",
   "execution_count": null,
   "metadata": {},
   "outputs": [],
   "source": [
    "print(scores)"
   ]
  },
  {
   "cell_type": "code",
   "execution_count": null,
   "metadata": {},
   "outputs": [],
   "source": [
    "# Extracting importance\n",
    "importances = clf.feature_importances_\n",
    "indices = np.argsort(importances)"
   ]
  },
  {
   "cell_type": "code",
   "execution_count": null,
   "metadata": {},
   "outputs": [],
   "source": [
    "# Obtains the indexes\n",
    "ind=[]\n",
    "for i in indices:\n",
    "    ind.append(labels[i])"
   ]
  },
  {
   "cell_type": "code",
   "execution_count": null,
   "metadata": {},
   "outputs": [],
   "source": [
    "# Plots attribute importance\n",
    "plt.figure(1)\n",
    "plt.title('Importância dos Atributos')\n",
    "plt.barh(range(len(indices)), importances[indices], color = 'b', align = 'center')\n",
    "plt.yticks(range(len(indices)),ind)\n",
    "plt.xlabel('Importância Relativa')\n",
    "plt.show()"
   ]
  },
  {
   "cell_type": "code",
   "execution_count": null,
   "metadata": {},
   "outputs": [],
   "source": [
    "#df3"
   ]
  },
  {
   "cell_type": "code",
   "execution_count": null,
   "metadata": {},
   "outputs": [],
   "source": []
  },
  {
   "cell_type": "code",
   "execution_count": null,
   "metadata": {},
   "outputs": [],
   "source": []
  },
  {
   "cell_type": "code",
   "execution_count": null,
   "metadata": {},
   "outputs": [],
   "source": []
  },
  {
   "cell_type": "code",
   "execution_count": null,
   "metadata": {},
   "outputs": [],
   "source": []
  },
  {
   "cell_type": "code",
   "execution_count": null,
   "metadata": {},
   "outputs": [],
   "source": []
  },
  {
   "cell_type": "code",
   "execution_count": null,
   "metadata": {},
   "outputs": [],
   "source": []
  },
  {
   "cell_type": "code",
   "execution_count": null,
   "metadata": {},
   "outputs": [],
   "source": []
  },
  {
   "cell_type": "code",
   "execution_count": null,
   "metadata": {},
   "outputs": [],
   "source": []
  },
  {
   "cell_type": "code",
   "execution_count": null,
   "metadata": {},
   "outputs": [],
   "source": []
  },
  {
   "cell_type": "code",
   "execution_count": null,
   "metadata": {},
   "outputs": [],
   "source": []
  },
  {
   "cell_type": "code",
   "execution_count": null,
   "metadata": {},
   "outputs": [],
   "source": []
  },
  {
   "cell_type": "code",
   "execution_count": null,
   "metadata": {},
   "outputs": [],
   "source": []
  },
  {
   "cell_type": "code",
   "execution_count": null,
   "metadata": {},
   "outputs": [],
   "source": []
  },
  {
   "cell_type": "code",
   "execution_count": null,
   "metadata": {},
   "outputs": [],
   "source": []
  },
  {
   "cell_type": "code",
   "execution_count": null,
   "metadata": {},
   "outputs": [],
   "source": []
  },
  {
   "cell_type": "code",
   "execution_count": null,
   "metadata": {},
   "outputs": [],
   "source": []
  },
  {
   "cell_type": "code",
   "execution_count": null,
   "metadata": {},
   "outputs": [],
   "source": []
  },
  {
   "cell_type": "code",
   "execution_count": null,
   "metadata": {},
   "outputs": [],
   "source": []
  },
  {
   "cell_type": "code",
   "execution_count": null,
   "metadata": {},
   "outputs": [],
   "source": []
  },
  {
   "cell_type": "code",
   "execution_count": null,
   "metadata": {},
   "outputs": [],
   "source": []
  },
  {
   "cell_type": "code",
   "execution_count": null,
   "metadata": {},
   "outputs": [],
   "source": []
  },
  {
   "cell_type": "code",
   "execution_count": null,
   "metadata": {},
   "outputs": [],
   "source": []
  },
  {
   "cell_type": "code",
   "execution_count": null,
   "metadata": {},
   "outputs": [],
   "source": []
  },
  {
   "cell_type": "code",
   "execution_count": null,
   "metadata": {},
   "outputs": [],
   "source": [
    "# %%pycodestyle\n",
    "# Usando um algoritmo de arvore de decisão,quais correlações foram encontradas?\n",
    "# ( disponibilizar o código que vai até o banco, coleta os dados e analisa)"
   ]
  },
  {
   "cell_type": "code",
   "execution_count": null,
   "metadata": {
    "scrolled": true
   },
   "outputs": [],
   "source": [
    "# Correlation between variables\n",
    "df2.corr()"
   ]
  },
  {
   "cell_type": "code",
   "execution_count": null,
   "metadata": {},
   "outputs": [],
   "source": [
    "df3"
   ]
  },
  {
   "cell_type": "code",
   "execution_count": null,
   "metadata": {},
   "outputs": [],
   "source": [
    "import numpy as np\n",
    "from sklearn.ensemble import RandomForestClassifier\n",
    "from treeinterpreter import treeinterpreter as ti\n",
    "from sklearn.datasets import load_iris"
   ]
  },
  {
   "cell_type": "code",
   "execution_count": null,
   "metadata": {},
   "outputs": [],
   "source": [
    "# Cria o classificador\n",
    "rf = RandomForestClassifier(max_depth = 5)"
   ]
  },
  {
   "cell_type": "code",
   "execution_count": null,
   "metadata": {},
   "outputs": [],
   "source": [
    "# Obtém os índices a partir do comprimento da variável targetr\n",
    "idx = list(range(len(df3.Approved)))"
   ]
  },
  {
   "cell_type": "code",
   "execution_count": null,
   "metadata": {},
   "outputs": [],
   "source": [
    "# Randomiza o ínidce\n",
    "np.random.shuffle(idx)"
   ]
  },
  {
   "cell_type": "code",
   "execution_count": null,
   "metadata": {},
   "outputs": [],
   "source": [
    "df4_Array = df3.values"
   ]
  },
  {
   "cell_type": "code",
   "execution_count": null,
   "metadata": {
    "scrolled": true
   },
   "outputs": [],
   "source": []
  },
  {
   "cell_type": "code",
   "execution_count": null,
   "metadata": {},
   "outputs": [],
   "source": [
    "# Cria o modelo\n",
    "rf.fit(df4_Array[idx][:100], df3.Approved[idx][:100].values)"
   ]
  },
  {
   "cell_type": "code",
   "execution_count": null,
   "metadata": {},
   "outputs": [],
   "source": [
    "# Obtém as instâncias (exemplos ou observações) e retorna as probabilidades\n",
    "instance = df4_Array[idx][100:101]\n",
    "print(rf.predict_proba(instance))"
   ]
  },
  {
   "cell_type": "code",
   "execution_count": null,
   "metadata": {},
   "outputs": [],
   "source": [
    "df3.feature_names = ['PlaceTest', 'HourTest', 'Sex', 'MaritalStatus', 'Education', 'HasTextRate']"
   ]
  },
  {
   "cell_type": "code",
   "execution_count": null,
   "metadata": {},
   "outputs": [],
   "source": [
    "prediction, bias, contributions = ti.predict(rf, instance)\n",
    "print (\"Previsões\", prediction)\n",
    "print (\"Contribuição dos Atributos:\")\n",
    "for item, feature in zip(contributions[0], df3.feature_names):\n",
    "    print (feature, item)"
   ]
  },
  {
   "cell_type": "code",
   "execution_count": null,
   "metadata": {
    "scrolled": true
   },
   "outputs": [],
   "source": [
    "df3.Approved.values"
   ]
  },
  {
   "cell_type": "code",
   "execution_count": null,
   "metadata": {},
   "outputs": [],
   "source": []
  },
  {
   "cell_type": "code",
   "execution_count": null,
   "metadata": {},
   "outputs": [],
   "source": []
  },
  {
   "cell_type": "code",
   "execution_count": null,
   "metadata": {},
   "outputs": [],
   "source": []
  },
  {
   "cell_type": "code",
   "execution_count": null,
   "metadata": {},
   "outputs": [],
   "source": []
  },
  {
   "cell_type": "code",
   "execution_count": null,
   "metadata": {},
   "outputs": [],
   "source": []
  },
  {
   "cell_type": "code",
   "execution_count": null,
   "metadata": {},
   "outputs": [],
   "source": []
  },
  {
   "cell_type": "code",
   "execution_count": null,
   "metadata": {},
   "outputs": [],
   "source": []
  },
  {
   "cell_type": "code",
   "execution_count": null,
   "metadata": {},
   "outputs": [],
   "source": []
  },
  {
   "cell_type": "code",
   "execution_count": null,
   "metadata": {},
   "outputs": [],
   "source": []
  },
  {
   "cell_type": "code",
   "execution_count": null,
   "metadata": {},
   "outputs": [],
   "source": []
  },
  {
   "cell_type": "code",
   "execution_count": null,
   "metadata": {},
   "outputs": [],
   "source": []
  },
  {
   "cell_type": "code",
   "execution_count": null,
   "metadata": {},
   "outputs": [],
   "source": []
  },
  {
   "cell_type": "code",
   "execution_count": null,
   "metadata": {},
   "outputs": [],
   "source": []
  },
  {
   "cell_type": "code",
   "execution_count": null,
   "metadata": {},
   "outputs": [],
   "source": []
  },
  {
   "cell_type": "code",
   "execution_count": null,
   "metadata": {},
   "outputs": [],
   "source": []
  },
  {
   "cell_type": "code",
   "execution_count": null,
   "metadata": {},
   "outputs": [],
   "source": [
    "# Import \n",
    "import pandas\n",
    "import matplotlib.pyplot as plt\n",
    "from sklearn.linear_model import LinearRegression\n",
    "from sklearn.ensemble import RandomForestRegressor\n",
    "from sklearn.metrics import mean_squared_error\n",
    "from sklearn.model_selection import train_test_split\n",
    "%matplotlib inline"
   ]
  },
  {
   "cell_type": "code",
   "execution_count": null,
   "metadata": {},
   "outputs": [],
   "source": [
    "# Imprimindo o nome das colunas\n",
    "print(df2.columns)"
   ]
  },
  {
   "cell_type": "code",
   "execution_count": null,
   "metadata": {},
   "outputs": [],
   "source": [
    "# Histograma com a média de avaliações\n",
    "plt.hist(df2[\"Rate\"])\n",
    "plt.show()"
   ]
  },
  {
   "cell_type": "code",
   "execution_count": null,
   "metadata": {},
   "outputs": [],
   "source": [
    "plt.hist(df2[\"TextRate\"])\n",
    "plt.show()"
   ]
  },
  {
   "cell_type": "code",
   "execution_count": null,
   "metadata": {},
   "outputs": [],
   "source": [
    "# Visualizando as observações com rating igual a 0\n",
    "df2[df2[\"TextRate\"] == 0]"
   ]
  },
  {
   "cell_type": "code",
   "execution_count": null,
   "metadata": {},
   "outputs": [],
   "source": [
    "# Correlação\n",
    "df2.corr()[\"TextRate\"]"
   ]
  },
  {
   "cell_type": "code",
   "execution_count": null,
   "metadata": {},
   "outputs": [],
   "source": [
    "# Obtém todas as colunas do dataframe\n",
    "colunas = df2.columns.tolist()"
   ]
  },
  {
   "cell_type": "code",
   "execution_count": null,
   "metadata": {},
   "outputs": [],
   "source": [
    "# Filtra as colunas e remove as que não são relevantes\n",
    "colunas = [c for c in colunas if c not in [\"Id\", \"Approved\", \"AllRate\", \"HasTextRate\", \"TextRate\", \"Neighborhood\", \"Hometown\", \"DateTest\"]]"
   ]
  },
  {
   "cell_type": "code",
   "execution_count": null,
   "metadata": {},
   "outputs": [],
   "source": [
    "# Preparando a variável target, a que será prevista\n",
    "target = \"TextRate\""
   ]
  },
  {
   "cell_type": "code",
   "execution_count": null,
   "metadata": {},
   "outputs": [],
   "source": [
    "# Gerando os dados de treino\n",
    "df_treino = df2.sample(frac = 0.8, random_state = 101)"
   ]
  },
  {
   "cell_type": "code",
   "execution_count": null,
   "metadata": {},
   "outputs": [],
   "source": [
    "# Seleciona tudo que não está no dataset de treino e armazena no dataset de teste\n",
    "df_teste = df2.loc[~df2.index.isin(df_treino.index)]"
   ]
  },
  {
   "cell_type": "code",
   "execution_count": null,
   "metadata": {},
   "outputs": [],
   "source": [
    "# Shape dos datasets\n",
    "print(df_treino.shape)\n",
    "print(df_teste.shape)"
   ]
  },
  {
   "cell_type": "code",
   "execution_count": null,
   "metadata": {},
   "outputs": [],
   "source": [
    "# Criando um Regressor\n",
    "reg_v1 = LinearRegression()"
   ]
  },
  {
   "cell_type": "code",
   "execution_count": null,
   "metadata": {},
   "outputs": [],
   "source": [
    "# Fit the model to the training data.\n",
    "modelo_v1 = reg_v1.fit(df_treino[colunas], df_treino[target])"
   ]
  },
  {
   "cell_type": "code",
   "execution_count": null,
   "metadata": {},
   "outputs": [],
   "source": [
    "modelo_v1"
   ]
  },
  {
   "cell_type": "code",
   "execution_count": null,
   "metadata": {},
   "outputs": [],
   "source": [
    "# Fazendo previsões\n",
    "previsoes = modelo_v1.predict(df_teste[colunas])"
   ]
  },
  {
   "cell_type": "code",
   "execution_count": null,
   "metadata": {},
   "outputs": [],
   "source": [
    "# Computando os erros entre valores observados e valores previstos\n",
    "mean_squared_error(previsoes, df_teste[target])"
   ]
  },
  {
   "cell_type": "code",
   "execution_count": null,
   "metadata": {},
   "outputs": [],
   "source": [
    "# Criando um regressor Random Forest\n",
    "reg_v2 = RandomForestRegressor(n_estimators = 100, min_samples_leaf = 10, random_state = 101)"
   ]
  },
  {
   "cell_type": "code",
   "execution_count": null,
   "metadata": {},
   "outputs": [],
   "source": [
    "# Criando o modelo\n",
    "modelo_v2 = reg_v2.fit(df_treino[colunas], df_treino[target])"
   ]
  },
  {
   "cell_type": "code",
   "execution_count": null,
   "metadata": {},
   "outputs": [],
   "source": [
    "# Fazendo previsões\n",
    "previsoes = modelo_v2.predict(df_teste[colunas])"
   ]
  },
  {
   "cell_type": "code",
   "execution_count": null,
   "metadata": {},
   "outputs": [],
   "source": [
    "# Computando o erro\n",
    "mean_squared_error(previsoes, df_teste[target])"
   ]
  },
  {
   "cell_type": "code",
   "execution_count": null,
   "metadata": {},
   "outputs": [],
   "source": [
    "df2.to_csv(\"DOT_teste_data_science_2.csv\", sep='\\t')"
   ]
  },
  {
   "cell_type": "code",
   "execution_count": null,
   "metadata": {},
   "outputs": [],
   "source": [
    "!ls"
   ]
  },
  {
   "cell_type": "code",
   "execution_count": null,
   "metadata": {},
   "outputs": [],
   "source": []
  }
 ],
 "metadata": {
  "kernelspec": {
   "display_name": "Python 3",
   "language": "python",
   "name": "python3"
  },
  "language_info": {
   "codemirror_mode": {
    "name": "ipython",
    "version": 3
   },
   "file_extension": ".py",
   "mimetype": "text/x-python",
   "name": "python",
   "nbconvert_exporter": "python",
   "pygments_lexer": "ipython3",
   "version": "3.6.5"
  }
 },
 "nbformat": 4,
 "nbformat_minor": 2
}
